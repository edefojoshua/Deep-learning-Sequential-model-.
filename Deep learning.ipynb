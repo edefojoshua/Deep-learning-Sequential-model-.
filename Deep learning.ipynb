{
 "cells": [
  {
   "cell_type": "code",
   "execution_count": 337,
   "id": "e30a7f64",
   "metadata": {},
   "outputs": [],
   "source": [
    "import numpy as np\n",
    "import numpy as np\n",
    "from random import randint\n",
    "from sklearn.utils import shuffle\n",
    "from sklearn.preprocessing import normalize\n",
    "import csv"
   ]
  },
  {
   "cell_type": "code",
   "execution_count": 338,
   "id": "9d31714e",
   "metadata": {},
   "outputs": [],
   "source": [
    "with open ('C:\\\\Users\\joe62\\\\OneDrive - Aberystwyth University\\\\Apps\\\\Desktop\\\\Research on demographic and health\\\\deep_learning_n.csv', 'r') as f:\n",
    "      reader = csv.reader(f)\n",
    "      deep_learning_n = list(reader)"
   ]
  },
  {
   "cell_type": "code",
   "execution_count": 339,
   "id": "6c06c2a0",
   "metadata": {},
   "outputs": [],
   "source": [
    "  data = np.array(deep_learning_n, dtype=int)"
   ]
  },
  {
   "cell_type": "code",
   "execution_count": 340,
   "id": "b56dc4f3",
   "metadata": {},
   "outputs": [
    {
     "ename": "SyntaxError",
     "evalue": "invalid decimal literal (1210782388.py, line 2)",
     "output_type": "error",
     "traceback": [
      "\u001b[1;36m  Cell \u001b[1;32mIn[340], line 2\u001b[1;36m\u001b[0m\n\u001b[1;33m    The data is from Demographic and health survey, Nigeria dataset 2018. The dependent varaible (1st coloumn of the dataset) was to\u001b[0m\n\u001b[1;37m                                                                                                  ^\u001b[0m\n\u001b[1;31mSyntaxError\u001b[0m\u001b[1;31m:\u001b[0m invalid decimal literal\n"
     ]
    }
   ],
   "source": [
    "Description of the data\n",
    "The data is from Demographic and health survey, Nigeria dataset 2018. The dependent varaible (1st coloumn of the dataset) was to\n",
    "determine if a child bearing woman ever had terminated pregnancy, \"0\" was no as reponse while \"1\" referrred to \"yes\" as response, \n",
    "indepedent variables were the weight of the respondent, wealth index, number of household and no of children given\n",
    "birth to by the respondent in column 2 to 5 respectively."
   ]
  },
  {
   "cell_type": "code",
   "execution_count": 341,
   "id": "bb836b59",
   "metadata": {},
   "outputs": [
    {
     "name": "stdout",
     "output_type": "stream",
     "text": [
      "[[      0  870296  150234       6       3]\n",
      " [      0  870296  150234       6       3]\n",
      " [      0  870296  150234       6       3]\n",
      " ...\n",
      " [      0 1389845   39837       6       4]\n",
      " [      0 1389845   39837       6       4]\n",
      " [      1 1389845  106615       3       1]]\n"
     ]
    }
   ],
   "source": [
    "print (data)"
   ]
  },
  {
   "cell_type": "code",
   "execution_count": 342,
   "id": "f7f28a65",
   "metadata": {},
   "outputs": [
    {
     "data": {
      "text/plain": [
       "104808"
      ]
     },
     "execution_count": 342,
     "metadata": {},
     "output_type": "execute_result"
    }
   ],
   "source": [
    "len(data)"
   ]
  },
  {
   "cell_type": "markdown",
   "id": "d05642f1",
   "metadata": {},
   "source": [
    "Spliting data into training and test data "
   ]
  },
  {
   "cell_type": "code",
   "execution_count": 343,
   "id": "c4b3a501",
   "metadata": {},
   "outputs": [],
   "source": [
    "data = shuffle (data)"
   ]
  },
  {
   "cell_type": "code",
   "execution_count": 344,
   "id": "e3f706cc",
   "metadata": {},
   "outputs": [],
   "source": [
    "training, test = np.array_split(data, [int(0.8*len(data))])"
   ]
  },
  {
   "cell_type": "code",
   "execution_count": 345,
   "id": "b6dd0759",
   "metadata": {},
   "outputs": [
    {
     "data": {
      "text/plain": [
       "83846"
      ]
     },
     "execution_count": 345,
     "metadata": {},
     "output_type": "execute_result"
    }
   ],
   "source": [
    "len(training)"
   ]
  },
  {
   "cell_type": "code",
   "execution_count": 346,
   "id": "604233a1",
   "metadata": {},
   "outputs": [
    {
     "name": "stdout",
     "output_type": "stream",
     "text": [
      "[[      0  952833  -98400       3      12]\n",
      " [      0 1053995 -124342       9       3]\n",
      " [      1  457847 -125428       6       4]\n",
      " ...\n",
      " [      0 1063614  147316       3       1]\n",
      " [      0  896160  129017      11       7]\n",
      " [      0  924613   61181       8       9]]\n"
     ]
    }
   ],
   "source": [
    "print(training)"
   ]
  },
  {
   "cell_type": "code",
   "execution_count": 347,
   "id": "f99ca611",
   "metadata": {},
   "outputs": [
    {
     "data": {
      "text/plain": [
       "20962"
      ]
     },
     "execution_count": 347,
     "metadata": {},
     "output_type": "execute_result"
    }
   ],
   "source": [
    "len(test)"
   ]
  },
  {
   "cell_type": "markdown",
   "id": "c1dcac9f",
   "metadata": {},
   "source": [
    "Preparing target (dependent variable)"
   ]
  },
  {
   "cell_type": "code",
   "execution_count": 348,
   "id": "bfc1bab7",
   "metadata": {},
   "outputs": [],
   "source": [
    "dependent_train_data = training[0:,0]"
   ]
  },
  {
   "cell_type": "code",
   "execution_count": 349,
   "id": "528b4728",
   "metadata": {},
   "outputs": [
    {
     "name": "stdout",
     "output_type": "stream",
     "text": [
      "[0 0 1 ... 0 0 0]\n"
     ]
    }
   ],
   "source": [
    "print(dependent_train_data)"
   ]
  },
  {
   "cell_type": "markdown",
   "id": "ffd8aa55",
   "metadata": {},
   "source": [
    "Reshape train data"
   ]
  },
  {
   "cell_type": "code",
   "execution_count": 350,
   "id": "05056fcd",
   "metadata": {},
   "outputs": [],
   "source": [
    "dependent_train_data= dependent_train_data.reshape(83846,1)"
   ]
  },
  {
   "cell_type": "code",
   "execution_count": 351,
   "id": "3542d1ea",
   "metadata": {},
   "outputs": [
    {
     "name": "stdout",
     "output_type": "stream",
     "text": [
      "[[0]\n",
      " [0]\n",
      " [1]\n",
      " ...\n",
      " [0]\n",
      " [0]\n",
      " [0]]\n"
     ]
    }
   ],
   "source": [
    "print(dependent_train_data)"
   ]
  },
  {
   "cell_type": "code",
   "execution_count": 352,
   "id": "eb92a1a8",
   "metadata": {},
   "outputs": [
    {
     "data": {
      "text/plain": [
       "83846"
      ]
     },
     "execution_count": 352,
     "metadata": {},
     "output_type": "execute_result"
    }
   ],
   "source": [
    "len(dependent_train_data)"
   ]
  },
  {
   "cell_type": "markdown",
   "id": "898742f2",
   "metadata": {},
   "source": [
    "Preparing target (independent variable)"
   ]
  },
  {
   "cell_type": "code",
   "execution_count": 353,
   "id": "9846d313",
   "metadata": {},
   "outputs": [],
   "source": [
    "independent_variabls_train_data = training[:,1:]"
   ]
  },
  {
   "cell_type": "code",
   "execution_count": 354,
   "id": "358288a0",
   "metadata": {},
   "outputs": [
    {
     "name": "stdout",
     "output_type": "stream",
     "text": [
      "[[ 952833  -98400       3      12]\n",
      " [1053995 -124342       9       3]\n",
      " [ 457847 -125428       6       4]\n",
      " ...\n",
      " [1063614  147316       3       1]\n",
      " [ 896160  129017      11       7]\n",
      " [ 924613   61181       8       9]]\n"
     ]
    }
   ],
   "source": [
    "print(independent_variabls_train_data)"
   ]
  },
  {
   "cell_type": "code",
   "execution_count": 355,
   "id": "83d2f7c6",
   "metadata": {},
   "outputs": [
    {
     "data": {
      "text/plain": [
       "83846"
      ]
     },
     "execution_count": 355,
     "metadata": {},
     "output_type": "execute_result"
    }
   ],
   "source": [
    "len(independent_variabls_train_data)"
   ]
  },
  {
   "cell_type": "markdown",
   "id": "daa08fed",
   "metadata": {},
   "source": [
    "Reshape indepedent train data"
   ]
  },
  {
   "cell_type": "code",
   "execution_count": 356,
   "id": "9d1c9bd2",
   "metadata": {},
   "outputs": [],
   "source": [
    "independent_variabls_train_data = independent_variabls_train_data.reshape(83846,4)"
   ]
  },
  {
   "cell_type": "code",
   "execution_count": 357,
   "id": "54ca940e",
   "metadata": {},
   "outputs": [
    {
     "name": "stdout",
     "output_type": "stream",
     "text": [
      "[[ 952833  -98400       3      12]\n",
      " [1053995 -124342       9       3]\n",
      " [ 457847 -125428       6       4]\n",
      " ...\n",
      " [1063614  147316       3       1]\n",
      " [ 896160  129017      11       7]\n",
      " [ 924613   61181       8       9]]\n"
     ]
    }
   ],
   "source": [
    "print (independent_variabls_train_data )"
   ]
  },
  {
   "cell_type": "markdown",
   "id": "b32d51e8",
   "metadata": {},
   "source": [
    "Normalization of features (independent variables)"
   ]
  },
  {
   "cell_type": "code",
   "execution_count": 358,
   "id": "0252cac5",
   "metadata": {},
   "outputs": [],
   "source": [
    "normalized_independent_train_samples = normalize(independent_variabls_train_data, axis=0)"
   ]
  },
  {
   "cell_type": "code",
   "execution_count": 359,
   "id": "ad16ab7e",
   "metadata": {},
   "outputs": [],
   "source": [
    "import tensorflow as tf\n",
    "from tensorflow import keras\n",
    "from tensorflow.keras.models import Sequential\n",
    "from tensorflow.keras.layers import  Activation, Dense, Dropout\n",
    "from tensorflow.keras.optimizers import Adam\n",
    "from tensorflow.keras.metrics import binary_crossentropy"
   ]
  },
  {
   "cell_type": "code",
   "execution_count": 360,
   "id": "a44a49fe",
   "metadata": {},
   "outputs": [
    {
     "name": "stdout",
     "output_type": "stream",
     "text": [
      "[[ 0.00314612 -0.00354673  0.00123706  0.00609075]\n",
      " [ 0.00348015 -0.00448179  0.00371118  0.00152269]\n",
      " [ 0.00151175 -0.00452093  0.00247412  0.00203025]\n",
      " ...\n",
      " [ 0.00351191  0.00530987  0.00123706  0.00050756]\n",
      " [ 0.002959    0.0046503   0.00453589  0.00355293]\n",
      " [ 0.00305294  0.00220521  0.00329883  0.00456806]]\n"
     ]
    }
   ],
   "source": [
    "print(normalized_independent_train_samples)"
   ]
  },
  {
   "cell_type": "markdown",
   "id": "92b177b2",
   "metadata": {},
   "source": [
    "Model"
   ]
  },
  {
   "cell_type": "code",
   "execution_count": 361,
   "id": "a14a93e0",
   "metadata": {},
   "outputs": [],
   "source": [
    "model = Sequential([\n",
    "      \n",
    "     Dense(units=32, input_shape=(4,), activation = \"relu\"),\n",
    "     Dense(units=64, activation =\"relu\"),\n",
    "     Dense(units=128, activation =\"relu\"),\n",
    "     Dropout(0.5),\n",
    "     Dense(units=1, activation = \"sigmoid\")\n",
    "])"
   ]
  },
  {
   "cell_type": "code",
   "execution_count": 362,
   "id": "36eb171b",
   "metadata": {},
   "outputs": [
    {
     "name": "stdout",
     "output_type": "stream",
     "text": [
      "Model: \"sequential_8\"\n",
      "_________________________________________________________________\n",
      " Layer (type)                Output Shape              Param #   \n",
      "=================================================================\n",
      " dense_51 (Dense)            (None, 32)                160       \n",
      "                                                                 \n",
      " dense_52 (Dense)            (None, 64)                2112      \n",
      "                                                                 \n",
      " dense_53 (Dense)            (None, 128)               8320      \n",
      "                                                                 \n",
      " dropout_12 (Dropout)        (None, 128)               0         \n",
      "                                                                 \n",
      " dense_54 (Dense)            (None, 1)                 129       \n",
      "                                                                 \n",
      "=================================================================\n",
      "Total params: 10,721\n",
      "Trainable params: 10,721\n",
      "Non-trainable params: 0\n",
      "_________________________________________________________________\n"
     ]
    }
   ],
   "source": [
    "model.summary()"
   ]
  },
  {
   "cell_type": "markdown",
   "id": "00c40cb4",
   "metadata": {},
   "source": [
    "Training the model"
   ]
  },
  {
   "cell_type": "code",
   "execution_count": 363,
   "id": "d8abcb9d",
   "metadata": {},
   "outputs": [],
   "source": [
    "model.compile(optimizer = Adam (learning_rate = 0.01), loss = \"binary_crossentropy\", metrics = [\"binary_accuracy\"])"
   ]
  },
  {
   "cell_type": "markdown",
   "id": "6b6d682a",
   "metadata": {},
   "source": [
    "Model compile and ready for training with validation sample of 10%"
   ]
  },
  {
   "cell_type": "code",
   "execution_count": 364,
   "id": "c342b707",
   "metadata": {},
   "outputs": [
    {
     "name": "stdout",
     "output_type": "stream",
     "text": [
      "Epoch 1/5\n",
      "2359/2359 - 2s - loss: 0.4309 - binary_accuracy: 0.8474 - val_loss: 0.4257 - val_binary_accuracy: 0.8483 - 2s/epoch - 924us/step\n",
      "Epoch 2/5\n",
      "2359/2359 - 2s - loss: 0.4272 - binary_accuracy: 0.8476 - val_loss: 0.4261 - val_binary_accuracy: 0.8483 - 2s/epoch - 740us/step\n",
      "Epoch 3/5\n",
      "2359/2359 - 2s - loss: 0.4271 - binary_accuracy: 0.8476 - val_loss: 0.4257 - val_binary_accuracy: 0.8483 - 2s/epoch - 728us/step\n",
      "Epoch 4/5\n",
      "2359/2359 - 2s - loss: 0.4270 - binary_accuracy: 0.8476 - val_loss: 0.4257 - val_binary_accuracy: 0.8483 - 2s/epoch - 732us/step\n",
      "Epoch 5/5\n",
      "2359/2359 - 2s - loss: 0.4270 - binary_accuracy: 0.8476 - val_loss: 0.4258 - val_binary_accuracy: 0.8483 - 2s/epoch - 766us/step\n"
     ]
    },
    {
     "data": {
      "text/plain": [
       "<keras.callbacks.History at 0x1aa9fae6250>"
      ]
     },
     "execution_count": 364,
     "metadata": {},
     "output_type": "execute_result"
    }
   ],
   "source": [
    "model.fit(x=normalized_independent_train_samples, y = dependent_variabl_train_data , validation_split = 0.1, batch_size = 32, epochs = 5, verbose = 2)"
   ]
  },
  {
   "cell_type": "markdown",
   "id": "ce0f1292",
   "metadata": {},
   "source": [
    "Use model to predict"
   ]
  },
  {
   "cell_type": "markdown",
   "id": "a1cec642",
   "metadata": {},
   "source": [
    "Preparing dependent_test_data"
   ]
  },
  {
   "cell_type": "code",
   "execution_count": 365,
   "id": "e25dcf3f",
   "metadata": {},
   "outputs": [],
   "source": [
    "dependent_test_data = test[0:,0]"
   ]
  },
  {
   "cell_type": "code",
   "execution_count": 366,
   "id": "27ba7ffa",
   "metadata": {},
   "outputs": [
    {
     "data": {
      "text/plain": [
       "20962"
      ]
     },
     "execution_count": 366,
     "metadata": {},
     "output_type": "execute_result"
    }
   ],
   "source": [
    "len(dependent_test_data)"
   ]
  },
  {
   "cell_type": "code",
   "execution_count": 367,
   "id": "974489f6",
   "metadata": {},
   "outputs": [
    {
     "name": "stdout",
     "output_type": "stream",
     "text": [
      "[0 0 0 ... 0 0 0]\n"
     ]
    }
   ],
   "source": [
    "print(dependent_test_data)"
   ]
  },
  {
   "cell_type": "markdown",
   "id": "d7d3cfad",
   "metadata": {},
   "source": [
    "Preparing independent variables"
   ]
  },
  {
   "cell_type": "code",
   "execution_count": 368,
   "id": "33e61506",
   "metadata": {},
   "outputs": [],
   "source": [
    "independent_variabls_test_data = test[:,1:]"
   ]
  },
  {
   "cell_type": "code",
   "execution_count": 369,
   "id": "b7b6f681",
   "metadata": {},
   "outputs": [],
   "source": [
    "normalized_independent_test_samples = normalize(independent_variabls_test_data , axis=0)"
   ]
  },
  {
   "cell_type": "code",
   "execution_count": 370,
   "id": "25dd5ce0",
   "metadata": {},
   "outputs": [
    {
     "name": "stdout",
     "output_type": "stream",
     "text": [
      "[[ 0.00639414 -0.00732152  0.00823635  0.00707854]\n",
      " [ 0.00625241 -0.00292207  0.00576544  0.00707854]\n",
      " [ 0.00500579 -0.00712356  0.00164727  0.00303366]\n",
      " ...\n",
      " [ 0.00702605  0.00706058  0.00329454  0.00202244]\n",
      " [ 0.00639414 -0.00523051  0.00823635  0.01011221]\n",
      " [ 0.00302446 -0.0048932   0.0214145   0.00808976]]\n"
     ]
    }
   ],
   "source": [
    "print(normalized_independent_test_samples)"
   ]
  },
  {
   "cell_type": "markdown",
   "id": "bf497930",
   "metadata": {},
   "source": [
    "Predict"
   ]
  },
  {
   "cell_type": "code",
   "execution_count": 371,
   "id": "3ce03730",
   "metadata": {},
   "outputs": [],
   "source": [
    "predictions = model.predict(x=independent_variabls_test_data, batch_size=10, verbose=0 )"
   ]
  },
  {
   "cell_type": "code",
   "execution_count": 372,
   "id": "76bf0fda",
   "metadata": {},
   "outputs": [
    {
     "data": {
      "text/plain": [
       "20962"
      ]
     },
     "execution_count": 372,
     "metadata": {},
     "output_type": "execute_result"
    }
   ],
   "source": [
    "len(predictions)"
   ]
  },
  {
   "cell_type": "code",
   "execution_count": 373,
   "id": "8e865e33",
   "metadata": {},
   "outputs": [],
   "source": [
    "rounded_predictions = np.argmax(predictions, axis=1)"
   ]
  },
  {
   "cell_type": "code",
   "execution_count": 374,
   "id": "47ed8bd2",
   "metadata": {},
   "outputs": [
    {
     "name": "stdout",
     "output_type": "stream",
     "text": [
      "[0 0 0 ... 0 0 0]\n"
     ]
    }
   ],
   "source": [
    "print(rounded_predictions)"
   ]
  },
  {
   "cell_type": "code",
   "execution_count": 375,
   "id": "5a478035",
   "metadata": {},
   "outputs": [],
   "source": [
    "rounded_predictions = rounded_predictions.reshape(20962, 1)"
   ]
  },
  {
   "cell_type": "code",
   "execution_count": 376,
   "id": "8181d916",
   "metadata": {},
   "outputs": [
    {
     "name": "stdout",
     "output_type": "stream",
     "text": [
      "[[0]\n",
      " [0]\n",
      " [0]\n",
      " ...\n",
      " [0]\n",
      " [0]\n",
      " [0]]\n"
     ]
    }
   ],
   "source": [
    "print(rounded_predictions)"
   ]
  },
  {
   "cell_type": "code",
   "execution_count": 377,
   "id": "ae4655dd",
   "metadata": {},
   "outputs": [
    {
     "data": {
      "text/plain": [
       "20962"
      ]
     },
     "execution_count": 377,
     "metadata": {},
     "output_type": "execute_result"
    }
   ],
   "source": [
    "len(rounded_predictions)"
   ]
  },
  {
   "cell_type": "code",
   "execution_count": 378,
   "id": "91190953",
   "metadata": {},
   "outputs": [],
   "source": [
    "%matplotlib inline\n",
    "from sklearn.metrics import confusion_matrix\n",
    "import itertools\n",
    "import matplotlib.pyplot as plt"
   ]
  },
  {
   "cell_type": "code",
   "execution_count": 379,
   "id": "04fe698e",
   "metadata": {},
   "outputs": [],
   "source": [
    "cm = confusion_matrix(y_true = dependent_test_data, y_pred = rounded_predictions )"
   ]
  },
  {
   "cell_type": "code",
   "execution_count": 380,
   "id": "c25bf105",
   "metadata": {},
   "outputs": [
    {
     "name": "stdout",
     "output_type": "stream",
     "text": [
      "[[17807     0]\n",
      " [ 3155     0]]\n"
     ]
    }
   ],
   "source": [
    "print(cm)"
   ]
  },
  {
   "cell_type": "code",
   "execution_count": 381,
   "id": "09e6306d",
   "metadata": {},
   "outputs": [],
   "source": [
    "def plot_confusion_matrix(cm, classes, \n",
    "                          normalize= False, \n",
    "                          title = 'Confusion matrix', \n",
    "                          cmap=plt.cm.Blues):\n",
    "    plt.imshow(cm, interpolation = 'nearest', cmap=cmap)\n",
    "    plt.title(title)\n",
    "    plt.colorbar()\n",
    "    tick_marks = np.arange(len(classes))\n",
    "    plt.xticks(tick_marks, classes, rotation=45)\n",
    "    plt.yticks(tick_marks, classes)\n",
    "    if normalize:\n",
    "        cm=cm.astype('int')/ cm.sum(axis=1)[:, np.newaxis]\n",
    "        print('Normalized confusion matrix' ),\n",
    "    else:\n",
    "            print('Confusion matrix, without normalization' )\n",
    "    print(cm)\n",
    "    \n",
    "    thresh = cm.max() /2.\n",
    "    for i,j in itertools.product(range(cm.shape[0]), range(cm.shape[1])):\n",
    "        plt.text(j, i, cm[i,j],\n",
    "                horizontalalignment= \"center\",\n",
    "                 color = \"white\" if cm[i,j] > thresh else \"black\")\n",
    "    plt.tight_layout()\n",
    "    plt.ylabel('True label')\n",
    "    plt.xlabel('Predicted label')"
   ]
  },
  {
   "cell_type": "code",
   "execution_count": 382,
   "id": "9a918ae4",
   "metadata": {},
   "outputs": [
    {
     "name": "stdout",
     "output_type": "stream",
     "text": [
      "Confusion matrix, without normalization\n",
      "[[17807     0]\n",
      " [ 3155     0]]\n"
     ]
    },
    {
     "data": {
      "image/png": "[encoded data removed]",
      "text/plain": [
       "<Figure size 640x480 with 2 Axes>"
      ]
     },
     "metadata": {},
     "output_type": "display_data"
    }
   ],
   "source": [
    "cm_plot_labels = ['had_never_terminated_Preg', 'Terminated_pregnancy'] \n",
    "plot_confusion_matrix(cm=cm, classes=cm_plot_labels, title = 'Confusion Matrix')"
   ]
  },
  {
   "cell_type": "markdown",
   "id": "a0ee2692",
   "metadata": {},
   "source": [
    "Save the model"
   ]
  },
  {
   "cell_type": "code",
   "execution_count": 383,
   "id": "34d52d8c",
   "metadata": {},
   "outputs": [],
   "source": [
    "import os.path"
   ]
  },
  {
   "cell_type": "code",
   "execution_count": 385,
   "id": "931752e7",
   "metadata": {},
   "outputs": [],
   "source": [
    "os.chdir('C:\\\\Users\\\\joe62\\OneDrive - Aberystwyth University\\\\Apps\\Desktop')"
   ]
  },
  {
   "cell_type": "code",
   "execution_count": 386,
   "id": "f2b75a63",
   "metadata": {},
   "outputs": [
    {
     "name": "stderr",
     "output_type": "stream",
     "text": [
      "WARNING:absl:Found untraced functions such as _update_step_xla while saving (showing 1 of 1). These functions will not be directly callable after loading.\n"
     ]
    },
    {
     "name": "stdout",
     "output_type": "stream",
     "text": [
      "INFO:tensorflow:Assets written to: Deep learning(Sequential sequential model\\assets\n"
     ]
    },
    {
     "name": "stderr",
     "output_type": "stream",
     "text": [
      "INFO:tensorflow:Assets written to: Deep learning(Sequential sequential model\\assets\n"
     ]
    }
   ],
   "source": [
    "if os.path.isfile('C:\\\\Users\\\\joe62\\OneDrive - Aberystwyth University\\\\Apps\\Desktop\\\\Deep learning') is False: \n",
    "    model.save('Deep learning(Sequential sequential model')"
   ]
  },
  {
   "cell_type": "code",
   "execution_count": null,
   "id": "5d5365c6",
   "metadata": {},
   "outputs": [],
   "source": []
  }
 ],
 "metadata": {
  "kernelspec": {
   "display_name": "Python 3 (ipykernel)",
   "language": "python",
   "name": "python3"
  },
  "language_info": {
   "codemirror_mode": {
    "name": "ipython",
    "version": 3
   },
   "file_extension": ".py",
   "mimetype": "text/x-python",
   "name": "python",
   "nbconvert_exporter": "python",
   "pygments_lexer": "ipython3",
   "version": "3.11.4"
  }
 },
 "nbformat": 4,
 "nbformat_minor": 5
}
